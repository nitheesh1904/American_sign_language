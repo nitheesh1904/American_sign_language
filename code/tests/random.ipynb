{
 "cells": [
  {
   "cell_type": "code",
   "execution_count": 4,
   "id": "72f9ddcb",
   "metadata": {},
   "outputs": [],
   "source": [
    "import pandas as pd\n",
    "\n",
    "# Load the CSV file\n",
    "df = pd.read_csv('../ml_model/all_class/final_keypoint_dataset.csv')\n",
    "\n",
    "# Drop the first column by index\n",
    "df = df.iloc[:, 1:]\n",
    "\n",
    "# Save the modified DataFrame back to the CSV (overwrite or use a new file)\n",
    "df.to_csv('your_file_cleaned.csv', index=False)"
   ]
  }
 ],
 "metadata": {
  "kernelspec": {
   "display_name": ".venv",
   "language": "python",
   "name": "python3"
  },
  "language_info": {
   "codemirror_mode": {
    "name": "ipython",
    "version": 3
   },
   "file_extension": ".py",
   "mimetype": "text/x-python",
   "name": "python",
   "nbconvert_exporter": "python",
   "pygments_lexer": "ipython3",
   "version": "3.10.4"
  }
 },
 "nbformat": 4,
 "nbformat_minor": 5
}
